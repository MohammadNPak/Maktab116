{
 "cells": [
  {
   "cell_type": "markdown",
   "metadata": {},
   "source": [
    "# decorator\n",
    "decorators are a design pattern for changing a function \n",
    "to modified version\n",
    "decorators take a function as a input argument and return\n",
    "modified function as output"
   ]
  },
  {
   "cell_type": "code",
   "execution_count": 5,
   "metadata": {},
   "outputs": [
    {
     "name": "stdout",
     "output_type": "stream",
     "text": [
      "1.3579251766204834\n"
     ]
    }
   ],
   "source": [
    "import time\n",
    "\n",
    "def f(n):\n",
    "    s=0\n",
    "    for i in range(1,n):\n",
    "        s +=n/i\n",
    "    return s\n",
    "\n",
    "start = time.time()\n",
    "a=f(10000000)\n",
    "end= time.time()\n",
    "\n",
    "delta_time=end-start\n",
    "print(delta_time)"
   ]
  },
  {
   "cell_type": "code",
   "execution_count": 8,
   "metadata": {},
   "outputs": [
    {
     "name": "stdout",
     "output_type": "stream",
     "text": [
      "0.13799834251403809\n",
      "a=14392725.722866744\n"
     ]
    }
   ],
   "source": [
    "from time import time\n",
    "\n",
    "def f(n):\n",
    "    s=0\n",
    "    for i in range(1,n):\n",
    "        s +=n/i\n",
    "    return s\n",
    "\n",
    "def exec_time(func):\n",
    "    def wraper(*args,**kwargs):\n",
    "        start = time()\n",
    "        a=func(*args,**kwargs)\n",
    "        end= time()\n",
    "        delta_time=end-start\n",
    "        print(delta_time)\n",
    "        return a\n",
    "    \n",
    "    return wraper\n",
    "\n",
    "f = exec_time(f)\n",
    "\n",
    "a=f(1000000)\n",
    "print(f\"{a=}\")\n"
   ]
  },
  {
   "cell_type": "code",
   "execution_count": 9,
   "metadata": {},
   "outputs": [
    {
     "name": "stdout",
     "output_type": "stream",
     "text": [
      "0.2379930019378662\n",
      "a=14392725.722866744\n"
     ]
    }
   ],
   "source": [
    "from time import time\n",
    "\n",
    "def exec_time(func):\n",
    "    def wraper(*args,**kwargs):\n",
    "        start = time()\n",
    "        a=func(*args,**kwargs)\n",
    "        end= time()\n",
    "        delta_time=end-start\n",
    "        print(delta_time)\n",
    "        return a\n",
    "    \n",
    "    return wraper\n",
    "\n",
    "@exec_time\n",
    "def f(n):\n",
    "    s=0\n",
    "    for i in range(1,n):\n",
    "        s +=n/i\n",
    "    return s\n",
    "\n",
    "a=f(1000000)\n",
    "print(f\"{a=}\")\n"
   ]
  },
  {
   "cell_type": "code",
   "execution_count": 19,
   "metadata": {},
   "outputs": [
    {
     "name": "stdout",
     "output_type": "stream",
     "text": [
      "hello 3\n"
     ]
    }
   ],
   "source": [
    "\n",
    "def exec_count(f):\n",
    "    n=0\n",
    "    def wraper(*args,**kwargs):\n",
    "        nonlocal n\n",
    "        a=f(*args,**kwargs)\n",
    "        n+=1\n",
    "        # print(n)\n",
    "        return a,n\n",
    "    return wraper\n",
    "\n",
    "@exec_count(c=2)\n",
    "def say_hello():\n",
    "    return f\"hello\"\n",
    "\n",
    "a,_ = say_hello()\n",
    "a,_ = say_hello()\n",
    "b,n = say_hello()\n",
    "print(b,n)\n"
   ]
  },
  {
   "cell_type": "code",
   "execution_count": 17,
   "metadata": {},
   "outputs": [
    {
     "name": "stdout",
     "output_type": "stream",
     "text": [
      "2\n"
     ]
    }
   ],
   "source": [
    "print(say_hello.__closure__[1].cell_contents)"
   ]
  },
  {
   "cell_type": "markdown",
   "metadata": {},
   "source": [
    "# recursion\n",
    "recursion in python function is when a function call itself "
   ]
  },
  {
   "cell_type": "code",
   "execution_count": null,
   "metadata": {},
   "outputs": [],
   "source": [
    "# factorial n! = n * (n-1)!\n",
    "# base:  0! = 1\n",
    "# \n",
    "\n",
    "def factorial(n):\n",
    "    if n==0:\n",
    "        return 1\n",
    "    else:\n",
    "        return  n* factorial(n-1)\n",
    "\n",
    "print(factorial(2000))"
   ]
  },
  {
   "cell_type": "code",
   "execution_count": null,
   "metadata": {},
   "outputs": [],
   "source": [
    "@exec_time\n",
    "def factorial_wrapper(n):\n",
    "    def factorial(n):\n",
    "        if n==0:\n",
    "            return 1\n",
    "        else:\n",
    "            return  n* factorial(n-1)\n",
    "    return factorial(n)\n",
    "\n",
    "print(factorial_wrapper(2000))"
   ]
  },
  {
   "cell_type": "markdown",
   "metadata": {},
   "source": [
    "Increasing the recursion limit: Python has a default maximum recursion depth of 1000. If a function exceeds this limit, it can be increased using the sys. setrecursionlimit(n) function."
   ]
  },
  {
   "cell_type": "code",
   "execution_count": null,
   "metadata": {},
   "outputs": [],
   "source": [
    "@exec_time\n",
    "def factorial_loop(n):\n",
    "    f=1\n",
    "    for i in range(1,n+1):\n",
    "        f*=i\n",
    "    return f\n",
    "\n",
    "print(factorial_loop(200000))\n",
    "\n"
   ]
  },
  {
   "cell_type": "markdown",
   "metadata": {},
   "source": [
    "## fibonacci\n"
   ]
  },
  {
   "cell_type": "code",
   "execution_count": 8,
   "metadata": {},
   "outputs": [
    {
     "name": "stdout",
     "output_type": "stream",
     "text": [
      "8\n",
      "0.0\n"
     ]
    }
   ],
   "source": [
    "# fib(n) = fib(n-1)+fib(n-2)\n",
    "# base fib(1)=1, fib(0)=1\n",
    "from time import time\n",
    "from functools import lru_cache\n",
    "\n",
    "@lru_cache\n",
    "def fib(n):\n",
    "    if n==0:\n",
    "        return 1\n",
    "    elif n==1:\n",
    "        return 1\n",
    "    else:\n",
    "        return fib(n-1)+fib(n-2)\n",
    "\n",
    "print(fib(5))\n",
    "\n",
    "start = time()\n",
    "a=fib(30)\n",
    "end= time()\n",
    "delta_time=end-start\n",
    "print(delta_time*1000)\n"
   ]
  },
  {
   "cell_type": "markdown",
   "metadata": {},
   "source": [
    "# generator\n"
   ]
  },
  {
   "cell_type": "code",
   "execution_count": 9,
   "metadata": {},
   "outputs": [
    {
     "name": "stdout",
     "output_type": "stream",
     "text": [
      "1\n",
      "1\n",
      "1\n"
     ]
    }
   ],
   "source": [
    "\n",
    "def count():\n",
    "    return 1\n",
    "    return 2\n",
    "    return 3\n",
    "\n",
    "print(count())\n",
    "print(count())\n",
    "print(count())"
   ]
  },
  {
   "cell_type": "code",
   "execution_count": 14,
   "metadata": {},
   "outputs": [
    {
     "name": "stdout",
     "output_type": "stream",
     "text": [
      "<class 'generator'>\n",
      "<generator object count at 0x000001D8E4CE0CF0>\n",
      "1\n",
      "2\n",
      "3\n"
     ]
    }
   ],
   "source": [
    "def count():\n",
    "    yield 1\n",
    "    yield 2\n",
    "    yield 3\n",
    "\n",
    "# print(count())\n",
    "# print(count())\n",
    "# print(count())\n",
    "print(type(count()))\n",
    "print(count())\n",
    "for i in count():\n",
    "    print(i)\n"
   ]
  },
  {
   "cell_type": "code",
   "execution_count": 17,
   "metadata": {},
   "outputs": [
    {
     "name": "stdout",
     "output_type": "stream",
     "text": [
      "<class 'generator'>\n",
      "<class 'generator'>\n",
      "104\n",
      "8856\n"
     ]
    }
   ],
   "source": [
    "from sys import getsizeof\n",
    "c = (x for x in range(1000))\n",
    "d = [x for x in range(1000)]\n",
    "print(type(c))\n",
    "print(type(c))\n",
    "\n",
    "print(getsizeof(c))\n",
    "print(getsizeof(d))\n"
   ]
  }
 ],
 "metadata": {
  "kernelspec": {
   "display_name": "Python 3",
   "language": "python",
   "name": "python3"
  },
  "language_info": {
   "codemirror_mode": {
    "name": "ipython",
    "version": 3
   },
   "file_extension": ".py",
   "mimetype": "text/x-python",
   "name": "python",
   "nbconvert_exporter": "python",
   "pygments_lexer": "ipython3",
   "version": "3.10.0"
  }
 },
 "nbformat": 4,
 "nbformat_minor": 2
}
