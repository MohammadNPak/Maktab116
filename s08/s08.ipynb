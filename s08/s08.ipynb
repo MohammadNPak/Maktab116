{
 "cells": [
  {
   "cell_type": "markdown",
   "metadata": {},
   "source": [
    "# fstrings in python\n",
    "f strings are power ful tools for formating strings. fromat means to put a variable inside a string.\n",
    "let's see some example."
   ]
  },
  {
   "cell_type": "code",
   "execution_count": 3,
   "metadata": {},
   "outputs": [
    {
     "name": "stdout",
     "output_type": "stream",
     "text": [
      "hello my name is ... and I'm ... years old\n"
     ]
    }
   ],
   "source": [
    "name = \"mohammad\"\n",
    "age =33\n",
    "message = \"hello my name is ... and I'm ... years old\"\n",
    "print(message)"
   ]
  },
  {
   "cell_type": "markdown",
   "metadata": {},
   "source": [
    "if we want to fill the blanks with variable in blow example we can use diffrent aproach\n"
   ]
  },
  {
   "cell_type": "markdown",
   "metadata": {},
   "source": [
    "## first approach: string concat"
   ]
  },
  {
   "cell_type": "code",
   "execution_count": 4,
   "metadata": {},
   "outputs": [
    {
     "name": "stdout",
     "output_type": "stream",
     "text": [
      "hello my name is mohammad and I'm 33 years old\n"
     ]
    }
   ],
   "source": [
    "# first aproach string concat\n",
    "name = \"mohammad\"\n",
    "age =33\n",
    "# message = \"hello my name is ... and I'm ... years old\"\n",
    "message = \"hello my name is \"+name+ \" and I'm \"+str(age)+\" years old\"\n",
    "print(message)"
   ]
  },
  {
   "cell_type": "markdown",
   "metadata": {},
   "source": [
    "## second approach: old style formating (c style)"
   ]
  },
  {
   "cell_type": "code",
   "execution_count": 5,
   "metadata": {},
   "outputs": [
    {
     "name": "stdout",
     "output_type": "stream",
     "text": [
      "hello my name is mohammad and I'm 33 years old\n"
     ]
    }
   ],
   "source": [
    "# first aproach string concat\n",
    "name = \"mohammad\"\n",
    "age =33\n",
    "# message = \"hello my name is ... and I'm ... years old\"\n",
    "message = \"hello my name is %s and I'm %d years old\" % (name,age)\n",
    "print(message)"
   ]
  },
  {
   "cell_type": "markdown",
   "metadata": {},
   "source": [
    "## third approach: format method"
   ]
  },
  {
   "cell_type": "code",
   "execution_count": 8,
   "metadata": {},
   "outputs": [
    {
     "name": "stdout",
     "output_type": "stream",
     "text": [
      "hello my name is 33 and I'm mohammad years old\n"
     ]
    }
   ],
   "source": [
    "# first aproach string concat\n",
    "name = \"mohammad\"\n",
    "age =33\n",
    "# message = \"hello my name is ... and I'm ... years old\"\n",
    "message = \"hello my name is {0} and I'm {1} years old\".format(name,age)\n",
    "print(message)"
   ]
  },
  {
   "cell_type": "markdown",
   "metadata": {},
   "source": [
    "## 4th approach: fstrings (best and newer)"
   ]
  },
  {
   "cell_type": "markdown",
   "metadata": {},
   "source": [
    "### simple example"
   ]
  },
  {
   "cell_type": "code",
   "execution_count": 9,
   "metadata": {},
   "outputs": [
    {
     "name": "stdout",
     "output_type": "stream",
     "text": [
      "hello my name is mohammad and I'm 33 years old\n"
     ]
    }
   ],
   "source": [
    "# first aproach string concat\n",
    "name = \"mohammad\"\n",
    "age =33\n",
    "# message = \"hello my name is ... and I'm ... years old\"\n",
    "message = f\"hello my name is {name} and I'm {age} years old\"\n",
    "print(message)"
   ]
  },
  {
   "cell_type": "markdown",
   "metadata": {},
   "source": [
    "### how to manage field width in fstrings"
   ]
  },
  {
   "cell_type": "code",
   "execution_count": 11,
   "metadata": {},
   "outputs": [
    {
     "name": "stdout",
     "output_type": "stream",
     "text": [
      "hello my name is mohammad        and I'm 33 years old\n"
     ]
    }
   ],
   "source": [
    "# previous example but with an extera condition.\n",
    "# name must be at least 15 char. if len of name is less than 15, fill string \n",
    "# with blank space\n",
    "\n",
    "name = \"mohammad\"\n",
    "age =33\n",
    "# message = \"hello my name is ... and I'm ... years old\"\n",
    "message = f\"hello my name is {name:15} and I'm {age} years old\"\n",
    "print(message)"
   ]
  },
  {
   "cell_type": "code",
   "execution_count": 13,
   "metadata": {},
   "outputs": [
    {
     "name": "stdout",
     "output_type": "stream",
     "text": [
      "hello my name is        mohammad and I'm 33 years old\n"
     ]
    }
   ],
   "source": [
    "name = \"mohammad\"\n",
    "age =33\n",
    "message = f\"hello my name is {name:>15} and I'm {age} years old\"\n",
    "print(message)"
   ]
  },
  {
   "cell_type": "code",
   "execution_count": 14,
   "metadata": {},
   "outputs": [
    {
     "name": "stdout",
     "output_type": "stream",
     "text": [
      "hello my name is    mohammad     and I'm 33 years old\n"
     ]
    }
   ],
   "source": [
    "name = \"mohammad\"\n",
    "age =33\n",
    "message = f\"hello my name is {name:^15} and I'm {age} years old\"\n",
    "print(message)"
   ]
  },
  {
   "cell_type": "code",
   "execution_count": 17,
   "metadata": {},
   "outputs": [
    {
     "name": "stdout",
     "output_type": "stream",
     "text": [
      "hello my name is ***mohammad**** and I'm 33 years old\n"
     ]
    }
   ],
   "source": [
    "name = \"mohammad\"\n",
    "age =33\n",
    "message = f\"hello my name is {name:*^15} and I'm {age} years old\"\n",
    "print(message)"
   ]
  },
  {
   "cell_type": "markdown",
   "metadata": {},
   "source": [
    "### field width for numbers"
   ]
  },
  {
   "cell_type": "code",
   "execution_count": 18,
   "metadata": {},
   "outputs": [
    {
     "name": "stdout",
     "output_type": "stream",
     "text": [
      "hello my name is mohammad and I have 10.357951$ money\n"
     ]
    }
   ],
   "source": [
    "name = \"mohammad\"\n",
    "money =10.357951\n",
    "message = f\"hello my name is {name} and I have {money}$ money\"\n",
    "print(message)"
   ]
  },
  {
   "cell_type": "code",
   "execution_count": 21,
   "metadata": {},
   "outputs": [
    {
     "name": "stdout",
     "output_type": "stream",
     "text": [
      "hello my name is mohammad and I have      10.36$ money\n"
     ]
    }
   ],
   "source": [
    "name = \"mohammad\"\n",
    "money =10.357951\n",
    "message = f\"hello my name is {name} and I have {money:10.2f}$ money\"\n",
    "print(message)"
   ]
  },
  {
   "cell_type": "code",
   "execution_count": 22,
   "metadata": {},
   "outputs": [
    {
     "name": "stdout",
     "output_type": "stream",
     "text": [
      "hello my name is mohammad and I have 0000010.36$ money\n"
     ]
    }
   ],
   "source": [
    "name = \"mohammad\"\n",
    "money =10.357951\n",
    "message = f\"hello my name is {name} and I have {money:010.2f}$ money\"\n",
    "print(message)"
   ]
  },
  {
   "cell_type": "code",
   "execution_count": 26,
   "metadata": {},
   "outputs": [
    {
     "name": "stdout",
     "output_type": "stream",
     "text": [
      "hello my name is mohammad and I have 10.36$ money\n"
     ]
    }
   ],
   "source": [
    "name = \"mohammad\"\n",
    "money =10.357951\n",
    "message = f\"hello my name is {name} and I have {money:.2f}$ money\"\n",
    "print(message)"
   ]
  },
  {
   "cell_type": "code",
   "execution_count": 28,
   "metadata": {},
   "outputs": [
    {
     "name": "stdout",
     "output_type": "stream",
     "text": [
      "calculation: 30\n"
     ]
    }
   ],
   "source": [
    "a = 10\n",
    "b = 20\n",
    "message = f\"calculation: {a+b}\"\n",
    "print(message)"
   ]
  },
  {
   "cell_type": "code",
   "execution_count": 29,
   "metadata": {},
   "outputs": [
    {
     "name": "stdout",
     "output_type": "stream",
     "text": [
      "calculation: a+b=30\n"
     ]
    }
   ],
   "source": [
    "a = 10\n",
    "b = 20\n",
    "message = f\"calculation: {a+b=}\"\n",
    "print(message)"
   ]
  },
  {
   "cell_type": "code",
   "execution_count": 30,
   "metadata": {},
   "outputs": [
    {
     "name": "stdout",
     "output_type": "stream",
     "text": [
      "big number: 1_044_987_894_564_684_984_641\n"
     ]
    }
   ],
   "source": [
    "a = 1044987894564684984641\n",
    "message = f\"big number: {a:_}\"\n",
    "print(message)"
   ]
  },
  {
   "cell_type": "code",
   "execution_count": 31,
   "metadata": {},
   "outputs": [
    {
     "name": "stdout",
     "output_type": "stream",
     "text": [
      "big number: 1,044,987,894,564,684,984,641\n"
     ]
    }
   ],
   "source": [
    "a = 1044987894564684984641\n",
    "message = f\"big number: {a:,}\"\n",
    "print(message)"
   ]
  },
  {
   "cell_type": "markdown",
   "metadata": {},
   "source": [
    "# list comprehension\n",
    "shorter syntax for creation of list in loop"
   ]
  },
  {
   "cell_type": "code",
   "execution_count": 34,
   "metadata": {},
   "outputs": [
    {
     "name": "stdout",
     "output_type": "stream",
     "text": [
      "[2, 3, 5]\n",
      "[4, 6, 10]\n",
      "[4, 6, 10]\n"
     ]
    }
   ],
   "source": [
    "a = [2,3,5]\n",
    "# assume we want to create a new list like b, each element of b is coresponding \n",
    "# element in a *2\n",
    "b = []\n",
    "for ai in a:\n",
    "    b.append(ai*2)\n",
    "    \n",
    "print(a)\n",
    "print(b)\n",
    "# instead of previous method, we can use list comprehension\n",
    "c = [ai*2 for ai in a]\n",
    "print(c)\n"
   ]
  },
  {
   "cell_type": "code",
   "execution_count": 36,
   "metadata": {},
   "outputs": [
    {
     "name": "stdout",
     "output_type": "stream",
     "text": [
      "[2, 3, 5, 4, 7, 10, 9]\n",
      "[2, 4, 10]\n",
      "[2, 4, 10]\n"
     ]
    }
   ],
   "source": [
    "a = [2,3,5,4,7,10,9]\n",
    "# assume we want to only even element in a. we can use filter clause in list\n",
    "# comprehension\n",
    "\n",
    "b = []\n",
    "for ai in a:\n",
    "    if ai%2==0:\n",
    "        b.append(ai)\n",
    "    \n",
    "print(a)\n",
    "print(b)\n",
    "# instead of previous method, we can use list comprehension with filter clause\n",
    "c = [ai for ai in a if ai%2==0]\n",
    "print(c)\n",
    "\n"
   ]
  },
  {
   "cell_type": "code",
   "execution_count": 37,
   "metadata": {},
   "outputs": [
    {
     "name": "stdout",
     "output_type": "stream",
     "text": [
      "[2, 3, 5, 4, 7, 10, 9]\n",
      "[5, 17, 101]\n",
      "[5, 17, 101]\n"
     ]
    }
   ],
   "source": [
    "a = [2,3,5,4,7,10,9]\n",
    "# assume we want to map a function and use a filter clause in list\n",
    "# comprehension\n",
    "\n",
    "def calc(x):\n",
    "    return x**2+1\n",
    "\n",
    "b = []\n",
    "for ai in a:\n",
    "    if ai%2==0:\n",
    "        b.append(calc(ai))\n",
    "    \n",
    "print(a)\n",
    "print(b)\n",
    "# instead of previous method, we can use list comprehension with filter clause\n",
    "c = [calc(ai) for ai in a if ai%2==0]\n",
    "print(c)\n",
    "\n"
   ]
  },
  {
   "cell_type": "markdown",
   "metadata": {},
   "source": [
    "### ternary operator (? in c language)\n",
    "in c language we can use ternary operator instead of if. for example\n",
    "code```\n",
    "e = a>b?10:20\n",
    "is equal to \n",
    "if (a>b){\n",
    "    e=10\n",
    "}else{\n",
    "    e=20\n",
    "}\n",
    "```"
   ]
  },
  {
   "cell_type": "code",
   "execution_count": null,
   "metadata": {},
   "outputs": [],
   "source": [
    "# but in python we use if for ternary operator \n",
    "e = 10 if a>b else 20\n",
    "# is equal to \n",
    "if a>b:\n",
    "    e=10\n",
    "else:\n",
    "    e=20"
   ]
  },
  {
   "cell_type": "markdown",
   "metadata": {},
   "source": [
    "## how to use ternary operator in list comprehension"
   ]
  },
  {
   "cell_type": "code",
   "execution_count": 38,
   "metadata": {},
   "outputs": [
    {
     "name": "stdout",
     "output_type": "stream",
     "text": [
      "[2, 3, 5, 4, 7, 10, 9]\n",
      "[True, False, False, True, False, True, False]\n",
      "[True, False, False, True, False, True, False]\n"
     ]
    }
   ],
   "source": [
    "a = [2,3,5,4,7,10,9]\n",
    "# assume we want to create a new list based on a. if ai is even we must return \n",
    "# true in new list else we must return false\n",
    "\n",
    "b = []\n",
    "for ai in a:\n",
    "    if ai%2==0:\n",
    "        x=True\n",
    "    else:\n",
    "        x=False\n",
    "\n",
    "    b.append(x)\n",
    "    \n",
    "print(a)\n",
    "print(b)\n",
    "# instead of previous method, we can use list comprehension with filter clause\n",
    "c = [True if ai%2==0 else False  for ai in a ]\n",
    "print(c)"
   ]
  },
  {
   "cell_type": "markdown",
   "metadata": {},
   "source": [
    "# functional programming with map filter reduce"
   ]
  },
  {
   "cell_type": "markdown",
   "metadata": {},
   "source": [
    "## map\n",
    "assume we have a iterable and want to call a function on all of \n",
    "it's elements. in this case we can use a loop or we can use \n",
    "list comprehension of finaly we can use map builtin function"
   ]
  },
  {
   "cell_type": "code",
   "execution_count": 47,
   "metadata": {},
   "outputs": [
    {
     "name": "stdout",
     "output_type": "stream",
     "text": [
      "first method, only use a loop.\n",
      "b=[5, 10, 26, 50, 197, 122, 2, 17]\n",
      "second method, list comprehension.\n",
      "c=[5, 10, 26, 50, 197, 122, 2, 17]\n",
      "third method,map function.\n",
      "d=<map object at 0x000001E9C1667220>\n",
      "third method,map function.\n",
      "list(d)=[5, 10, 26, 50, 197, 122, 2, 17]\n"
     ]
    }
   ],
   "source": [
    "def calc(x):\n",
    "    return x**2+1\n",
    "\n",
    "a = [2,3,5,7,14,11,1,4]\n",
    "\n",
    "#first method:use a loop\n",
    "b=[]\n",
    "for ai in a:\n",
    "    b.append(calc(ai))\n",
    "print(f\"first method, only use a loop.\\n{b=}\")\n",
    "\n",
    "# second method: use list comprehension\n",
    "c = [calc(ai) for ai in a]\n",
    "print(f\"second method, list comprehension.\\n{c=}\")\n",
    "\n",
    "# third method: use map function\n",
    "d = map(calc,a)\n",
    "print(f\"third method,map function.\\n{d=}\")\n",
    "# result of map function is a map object that can be iterate in for loop or\n",
    "# can be casted to a list\n",
    "print(f\"third method,map function.\\n{list(d)=}\")"
   ]
  },
  {
   "cell_type": "code",
   "execution_count": 48,
   "metadata": {},
   "outputs": [
    {
     "name": "stdout",
     "output_type": "stream",
     "text": [
      "map function with lambda.\n",
      "list(map(lambda x:x**2+1,a))=[5, 10, 26, 50, 197, 122, 2, 17]\n"
     ]
    }
   ],
   "source": [
    "# we usualy use map with lambda expression\n",
    "# for example we can use this code \n",
    "a = [2,3,5,7,14,11,1,4]\n",
    "print(f\"map function with lambda.\\n{list(map(lambda x:x**2+1,a))=}\")"
   ]
  },
  {
   "cell_type": "markdown",
   "metadata": {},
   "source": [
    "### input using map \n",
    "we can read inputs and cast them to seperate variable using map and split"
   ]
  },
  {
   "cell_type": "code",
   "execution_count": null,
   "metadata": {},
   "outputs": [],
   "source": [
    "# assume we have 3 float input in one line \n",
    "# 2 3.8 4.5\n",
    "\n",
    "a,b,c = map(float,input().split())\n",
    "\n",
    "# also we can use list comprehension for that purpose\n",
    "a,b,c = [float(x) for x in input().split()]"
   ]
  },
  {
   "cell_type": "markdown",
   "metadata": {},
   "source": [
    "## filter \n",
    "assume we have a iterable and want to filter it's element based on a filter\n",
    "function result. in this case we use filter builtin function."
   ]
  },
  {
   "cell_type": "code",
   "execution_count": 49,
   "metadata": {},
   "outputs": [
    {
     "name": "stdout",
     "output_type": "stream",
     "text": [
      "first method, only use a loop.\n",
      "b=[2, 14, 4]\n",
      "second method, list comprehension.\n",
      "c=[2, 14, 4]\n",
      "third method,filter function.\n",
      "d=<filter object at 0x000001E9C29F3850>\n",
      "third method,map function.\n",
      "list(d)=[2, 14, 4]\n"
     ]
    }
   ],
   "source": [
    "a = [2,3,5,7,14,11,1,4]\n",
    "# assume we want only even elements in list a\n",
    "\n",
    "#first method:use a loop\n",
    "b=[]\n",
    "for ai in a:\n",
    "    if ai%2==0:\n",
    "        b.append(ai)\n",
    "print(f\"first method, only use a loop.\\n{b=}\")\n",
    "\n",
    "# second method: use list comprehension\n",
    "c = [ai for ai in a if ai%2==0]\n",
    "print(f\"second method, list comprehension.\\n{c=}\")\n",
    "\n",
    "# third method: use filter function\n",
    "def f(x):\n",
    "    if x%2==0:\n",
    "        return True\n",
    "    return False\n",
    "\n",
    "d = filter(f,a)\n",
    "print(f\"third method,filter function.\\n{d=}\")\n",
    "# result of filter function is a filter object that can be iterate in for loop or\n",
    "# can be casted to a list\n",
    "print(f\"third method,filter function.\\n{list(d)=}\")"
   ]
  },
  {
   "cell_type": "code",
   "execution_count": 50,
   "metadata": {},
   "outputs": [
    {
     "name": "stdout",
     "output_type": "stream",
     "text": [
      "filter function with lambda.\n",
      "list(filter(lambda x:x%2==0,a))=[2, 14, 4]\n"
     ]
    }
   ],
   "source": [
    "# we usualy use filter with lambda expression\n",
    "# for example we can use this code \n",
    "a = [2,3,5,7,14,11,1,4]\n",
    "print(f\"filter function with lambda.\\n{list(filter(lambda x:x%2==0,a))=}\")"
   ]
  },
  {
   "cell_type": "markdown",
   "metadata": {},
   "source": [
    "## reduce\n",
    "we used to use reduce for finding min,max,sum,any,all ,... but in newer \n",
    "versin of python we can use builtin function for that purpose. \n"
   ]
  },
  {
   "cell_type": "code",
   "execution_count": 58,
   "metadata": {},
   "outputs": [
    {
     "name": "stdout",
     "output_type": "stream",
     "text": [
      "min of a: reduce(lambda x,y:x if x<y else y,a)=1\n",
      "max of a: reduce(lambda x,y:x if x>y else y,a)=14\n",
      "sum of a: reduce(lambda x,y:x+y,a)=47\n",
      "sum of a: reduce(lambda x,y:x*y,a)=129360\n",
      "any of a: reduce(lambda x,y:bool(x) or bool(y),a)=True\n",
      "any of a: reduce(lambda x,y:bool(x) and bool(y),a)=True\n",
      "1\n",
      "14\n",
      "47\n",
      "True\n",
      "True\n"
     ]
    }
   ],
   "source": [
    "from functools import reduce\n",
    "\n",
    "a = [2,3,5,7,14,11,1,4]\n",
    "# assume we want to find minimum of a\n",
    "print(f\"min of a: {reduce(lambda x,y:x if x<y else y,a)=}\")\n",
    "\n",
    "# assume we want to find maximum of a\n",
    "print(f\"max of a: {reduce(lambda x,y:x if x>y else y,a)=}\")\n",
    "\n",
    "# assume we want to find sum of a\n",
    "print(f\"sum of a: {reduce(lambda x,y:x+y,a)=}\")\n",
    "\n",
    "# assume we want to find product of a\n",
    "print(f\"sum of a: {reduce(lambda x,y:x*y,a)=}\")\n",
    "\n",
    "# assume we want to find any of a\n",
    "print(f\"any of a: {reduce(lambda x,y:bool(x) or bool(y),a)=}\")\n",
    "\n",
    "# assume we want to find all of a\n",
    "print(f\"any of a: {reduce(lambda x,y:bool(x) and bool(y),a)=}\")\n",
    "\n",
    "# also we can use min, max, sum, any,all builtin function\n",
    "print(min(a))\n",
    "print(max(a))\n",
    "print(sum(a))\n",
    "print(any(a))\n",
    "print(all(a))"
   ]
  },
  {
   "cell_type": "markdown",
   "metadata": {},
   "source": [
    "#  Exceptions\n",
    "Even if a statement or expression is syntactically correct, it may cause an error when an attempt is made to execute it. Errors detected during execution are called exceptions and are not unconditionally fatal"
   ]
  },
  {
   "cell_type": "code",
   "execution_count": 1,
   "metadata": {},
   "outputs": [],
   "source": [
    "# example of exception: zero division exception\n",
    "\n",
    "a = int(input(\"enter a: \"))\n",
    "b = int(input(\"enter b: \"))\n",
    "print(a/b)\n",
    "# if user enter b as zero this exception will raise\n",
    "\n",
    "# Traceback (most recent call last):\n",
    "#   File \"d:\\code\\maktab116\\s08\\s08a.py\", line 3, in <module>\n",
    "#     print(a/b)\n",
    "# ZeroDivisionError: division by zero"
   ]
  },
  {
   "cell_type": "markdown",
   "metadata": {},
   "source": [
    "exceptions in python are builtin"
   ]
  },
  {
   "cell_type": "markdown",
   "metadata": {},
   "source": [
    "## how can we handle exceptions?\n",
    "we can use try block in pyhton to handle exceptions."
   ]
  },
  {
   "cell_type": "code",
   "execution_count": null,
   "metadata": {},
   "outputs": [],
   "source": [
    "a = int(input(\"enter a: \"))\n",
    "b = int(input(\"enter b: \"))\n",
    "try:\n",
    "    print(a/b)\n",
    "except Exception as e:\n",
    "    print(\"something wen't wrong\")"
   ]
  },
  {
   "cell_type": "code",
   "execution_count": null,
   "metadata": {},
   "outputs": [],
   "source": [
    "a = int(input(\"enter a: \"))\n",
    "b = int(input(\"enter b: \"))\n",
    "try:\n",
    "    print(a/b)\n",
    "except ZeroDivisionError:\n",
    "    print(\"b can not be zero!\")\n",
    "    b = int(input(\"please enter b again: \"))\n",
    "    print(a/b)\n",
    "except Exception as e:\n",
    "    print(\"something wen't wrong\")\n",
    "finally:\n",
    "    pass\n",
    "    #do somthing"
   ]
  },
  {
   "cell_type": "markdown",
   "metadata": {},
   "source": [
    "# file handling in python\n",
    "we can use open() built in function to manage files in python."
   ]
  },
  {
   "cell_type": "markdown",
   "metadata": {},
   "source": [
    "### we can use relative of absolute address for files"
   ]
  },
  {
   "cell_type": "code",
   "execution_count": 7,
   "metadata": {},
   "outputs": [],
   "source": [
    "\n",
    "# relative address example\n",
    "file_address = \"myData\\students.txt\"\n",
    "fp = open(file_address,'w')\n",
    "fp.write(\"salam\")\n",
    "fp.close()"
   ]
  },
  {
   "cell_type": "code",
   "execution_count": 8,
   "metadata": {},
   "outputs": [],
   "source": [
    "# relative address example\n",
    "file_address = \"D:\\code\\maktab116\\s08\\myData\\students.txt\"\n",
    "fp = open(file_address,'w')\n",
    "fp.write(\"absolute\")\n",
    "fp.close()"
   ]
  },
  {
   "cell_type": "markdown",
   "metadata": {},
   "source": [
    "### write mode\n",
    "in this mode, all previous data will clean and new data will be write to file"
   ]
  },
  {
   "cell_type": "code",
   "execution_count": 9,
   "metadata": {},
   "outputs": [],
   "source": [
    "file_address = \"data.txt\"\n",
    "fp = open(file_address,'w')\n",
    "fp.write(\"write mode\")\n",
    "fp.close()"
   ]
  },
  {
   "cell_type": "markdown",
   "metadata": {},
   "source": [
    "### read mode\n",
    "in this mode, we can't change data in file only can read data.\n",
    "if we want to write data in read mode, an exception will raise"
   ]
  },
  {
   "cell_type": "code",
   "execution_count": 10,
   "metadata": {},
   "outputs": [
    {
     "ename": "UnsupportedOperation",
     "evalue": "not writable",
     "output_type": "error",
     "traceback": [
      "\u001b[1;31m---------------------------------------------------------------------------\u001b[0m",
      "\u001b[1;31mUnsupportedOperation\u001b[0m                      Traceback (most recent call last)",
      "Input \u001b[1;32mIn [10]\u001b[0m, in \u001b[0;36m<cell line: 3>\u001b[1;34m()\u001b[0m\n\u001b[0;32m      1\u001b[0m file_address \u001b[38;5;241m=\u001b[39m \u001b[38;5;124m\"\u001b[39m\u001b[38;5;124mdata.txt\u001b[39m\u001b[38;5;124m\"\u001b[39m\n\u001b[0;32m      2\u001b[0m fp \u001b[38;5;241m=\u001b[39m \u001b[38;5;28mopen\u001b[39m(file_address,\u001b[38;5;124m'\u001b[39m\u001b[38;5;124mr\u001b[39m\u001b[38;5;124m'\u001b[39m)\n\u001b[1;32m----> 3\u001b[0m \u001b[43mfp\u001b[49m\u001b[38;5;241;43m.\u001b[39;49m\u001b[43mwrite\u001b[49m\u001b[43m(\u001b[49m\u001b[38;5;124;43m\"\u001b[39;49m\u001b[38;5;124;43mwrite mode\u001b[39;49m\u001b[38;5;124;43m\"\u001b[39;49m\u001b[43m)\u001b[49m\n\u001b[0;32m      4\u001b[0m fp\u001b[38;5;241m.\u001b[39mclose()\n",
      "\u001b[1;31mUnsupportedOperation\u001b[0m: not writable"
     ]
    }
   ],
   "source": [
    "file_address = \"data.txt\"\n",
    "fp = open(file_address,'r')\n",
    "fp.write(\"write mode\")\n",
    "fp.close()"
   ]
  },
  {
   "cell_type": "markdown",
   "metadata": {},
   "source": [
    "to read all content of text file we can use read() method."
   ]
  },
  {
   "cell_type": "code",
   "execution_count": 11,
   "metadata": {},
   "outputs": [
    {
     "name": "stdout",
     "output_type": "stream",
     "text": [
      "write mode\n"
     ]
    }
   ],
   "source": [
    "file_address = \"data.txt\"\n",
    "fp = open(file_address,'r')\n",
    "data = fp.read()\n",
    "print(data)\n",
    "fp.close()"
   ]
  },
  {
   "cell_type": "markdown",
   "metadata": {},
   "source": [
    "readline only read a single line and put the cursor at the \n",
    "begining of next line"
   ]
  },
  {
   "cell_type": "code",
   "execution_count": 13,
   "metadata": {},
   "outputs": [
    {
     "name": "stdout",
     "output_type": "stream",
     "text": [
      "line 1 \n",
      "\n"
     ]
    }
   ],
   "source": [
    "\n",
    "file_address = \"data.txt\"\n",
    "fp = open(file_address,'r')\n",
    "data = fp.readline()\n",
    "print(data)\n",
    "fp.close()"
   ]
  },
  {
   "cell_type": "code",
   "execution_count": 15,
   "metadata": {},
   "outputs": [
    {
     "name": "stdout",
     "output_type": "stream",
     "text": [
      "line 1 \n",
      "\n",
      "line 2\n",
      "\n",
      "line 3\n"
     ]
    }
   ],
   "source": [
    "file_address = \"data.txt\"\n",
    "fp = open(file_address,'r')\n",
    "while True:\n",
    "    data = fp.readline()\n",
    "    if not data:\n",
    "        break\n",
    "    print(data)\n",
    "fp.close()"
   ]
  },
  {
   "cell_type": "code",
   "execution_count": 16,
   "metadata": {},
   "outputs": [
    {
     "name": "stdout",
     "output_type": "stream",
     "text": [
      "line 1 \n",
      "\n",
      "line 2\n",
      "\n",
      "line 3\n"
     ]
    }
   ],
   "source": [
    "# we can use readlines method to get all lines in a iterable:\n",
    "\n",
    "file_address = \"data.txt\"\n",
    "fp = open(file_address,'r')\n",
    "for l in fp.readlines():\n",
    "    print(l)\n",
    "fp.close()"
   ]
  },
  {
   "cell_type": "markdown",
   "metadata": {},
   "source": [
    "### append mode\n",
    "in this mode, we can save previous data and append new data to file"
   ]
  },
  {
   "cell_type": "code",
   "execution_count": 17,
   "metadata": {},
   "outputs": [],
   "source": [
    "file_address = \"data.txt\"\n",
    "fp = open(file_address,'a')\n",
    "fp.write(\"salam\")\n",
    "fp.write(\"bye\")\n",
    "fp.close()"
   ]
  },
  {
   "cell_type": "markdown",
   "metadata": {},
   "source": [
    "## how to use contex manager for files"
   ]
  },
  {
   "cell_type": "code",
   "execution_count": 18,
   "metadata": {},
   "outputs": [],
   "source": [
    "file_address = \"data.txt\"\n",
    "with open(file_address,'a') as fp:\n",
    "    fp.write(\"salam\")\n",
    "    fp.write(\"bye\")"
   ]
  },
  {
   "cell_type": "markdown",
   "metadata": {},
   "source": [
    "## encoding in file\n",
    "if we want to write persian char in files we must set encoding parameter for \n",
    "open function"
   ]
  },
  {
   "cell_type": "code",
   "execution_count": 19,
   "metadata": {},
   "outputs": [],
   "source": [
    "file_address = \"data.txt\"\n",
    "with open(file_address,'a',encoding='utf8') as fp:\n",
    "    fp.write(\"سلام\")\n",
    "    fp.write(\"خدا حافظ\")"
   ]
  },
  {
   "cell_type": "markdown",
   "metadata": {},
   "source": [
    "## open file in byte mode"
   ]
  },
  {
   "cell_type": "code",
   "execution_count": 30,
   "metadata": {},
   "outputs": [
    {
     "name": "stdout",
     "output_type": "stream",
     "text": [
      "0b10100000\n",
      "5040\n",
      "<class 'bytes'>\n"
     ]
    }
   ],
   "source": [
    "file_address = \"myData\\profile.png\"\n",
    "with open(file_address,'rb',) as fp:\n",
    "    data =fp.read()\n",
    "    print(bin(data[170]))\n",
    "    print(len(data))\n",
    "    print(type(data))"
   ]
  }
 ],
 "metadata": {
  "kernelspec": {
   "display_name": "Python 3",
   "language": "python",
   "name": "python3"
  },
  "language_info": {
   "codemirror_mode": {
    "name": "ipython",
    "version": 3
   },
   "file_extension": ".py",
   "mimetype": "text/x-python",
   "name": "python",
   "nbconvert_exporter": "python",
   "pygments_lexer": "ipython3",
   "version": "3.10.0"
  }
 },
 "nbformat": 4,
 "nbformat_minor": 2
}
